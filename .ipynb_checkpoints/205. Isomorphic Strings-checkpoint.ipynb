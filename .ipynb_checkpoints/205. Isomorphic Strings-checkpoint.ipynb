{
 "cells": [
  {
   "cell_type": "markdown",
   "metadata": {},
   "source": [
    "Given two strings s and t, determine if they are isomorphic.\n",
    "\n",
    "Two strings are isomorphic if the characters in s can be replaced to get t.\n",
    "\n",
    "All occurrences of a character must be replaced with another character while preserving the order of characters. \n",
    "\n",
    "No two characters may map to the same character but a character may map to itself.\n",
    "\n",
    "Input: s = \"egg\", t = \"add\"\n",
    "Output: true"
   ]
  },
  {
   "cell_type": "markdown",
   "metadata": {},
   "source": [
    "# Problem : https://leetcode.com/problems/isomorphic-strings/"
   ]
  },
  {
   "cell_type": "code",
   "execution_count": 7,
   "metadata": {},
   "outputs": [
    {
     "name": "stdout",
     "output_type": "stream",
     "text": [
      "True\n",
      "False\n",
      "True\n",
      "True\n"
     ]
    }
   ],
   "source": [
    "class solution:\n",
    "    def isIsomorphic(s,t):\n",
    "        \n",
    "        smap = {}\n",
    "        tmap = {}\n",
    "        \n",
    "        #base condition:\n",
    "        if(len(s)!=len(t)):\n",
    "            return False\n",
    "        \n",
    "        for i in range(len(s)): #as both strings are of same len\n",
    "            a = s[i]\n",
    "            b = t[i]\n",
    "            \n",
    "            #verify if a exists in smap\n",
    "            if a not in smap:\n",
    "                smap[a] = b\n",
    "            else:\n",
    "                if smap[a] != b:\n",
    "                    return False\n",
    "                \n",
    "            #verify if b exist in tmap    \n",
    "            if b not in tmap:\n",
    "                tmap[b] = a\n",
    "            else:\n",
    "                if tmap[b] != a:\n",
    "                    return False\n",
    "        return True\n",
    "        \n",
    "obj = solution\n",
    "print(obj.isIsomorphic(\"egg\",\"add\"))\n",
    "print(obj.isIsomorphic(\"foo\",\"bar\"))\n",
    "print(obj.isIsomorphic(\"paper\",\"title\"))\n",
    "print(obj.isIsomorphic(\"fan\",\"tra\"))\n",
    "\n",
    "#time complexity: O(n)\n",
    "#space complexity: O(n)\n",
    "#average space complexity: O(1)-> meaning we can store only 26 characters "
   ]
  },
  {
   "cell_type": "code",
   "execution_count": 2,
   "metadata": {},
   "outputs": [
    {
     "name": "stdout",
     "output_type": "stream",
     "text": [
      "{'e': 'a'}\n",
      "{}\n",
      "{'e': 'a', 'g': 'd'}\n",
      "{'a': 'e'}\n",
      "{'e': 'a', 'g': 'd'}\n",
      "{'a': 'e', 'd': 'g'}\n",
      "True\n"
     ]
    }
   ],
   "source": [
    " def isIsomorphic(s,t):\n",
    "        \n",
    "        smap = {}\n",
    "        tmap = {}\n",
    "        \n",
    "        #base condition:\n",
    "        if(len(s)!=len(t)):\n",
    "            return False\n",
    "        \n",
    "        for i in range(len(s)): #as both strings are of same len\n",
    "            a = s[i]\n",
    "            b = t[i]\n",
    "            \n",
    "            #verify if a exists in smap\n",
    "            if a not in smap:\n",
    "                smap[a] = b\n",
    "            else:\n",
    "                if smap[a] != b:\n",
    "                    return False\n",
    "            print(smap)\n",
    "            print(tmap)\n",
    "            #verify if b exist in tmap    \n",
    "            if b not in tmap:\n",
    "                tmap[b] = a\n",
    "            else:\n",
    "                if tmap[b] != a:\n",
    "                    return False\n",
    "        return True\n",
    "    \n",
    "print(isIsomorphic(\"egg\",\"add\"))"
   ]
  },
  {
   "cell_type": "code",
   "execution_count": null,
   "metadata": {},
   "outputs": [],
   "source": []
  }
 ],
 "metadata": {
  "kernelspec": {
   "display_name": "Python 3",
   "language": "python",
   "name": "python3"
  },
  "language_info": {
   "codemirror_mode": {
    "name": "ipython",
    "version": 3
   },
   "file_extension": ".py",
   "mimetype": "text/x-python",
   "name": "python",
   "nbconvert_exporter": "python",
   "pygments_lexer": "ipython3",
   "version": "3.7.7"
  }
 },
 "nbformat": 4,
 "nbformat_minor": 4
}
