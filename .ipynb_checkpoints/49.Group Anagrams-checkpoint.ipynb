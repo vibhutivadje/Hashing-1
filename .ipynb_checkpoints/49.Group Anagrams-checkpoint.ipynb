{
 "cells": [
  {
   "cell_type": "markdown",
   "metadata": {},
   "source": [
    "Given an array of strings strs, group the anagrams together. You can return the answer in any order.\n",
    "\n",
    "An Anagram is a word or phrase formed by rearranging the letters of a different word or phrase, \n",
    "typically using all the original letters exactly once.\n",
    "\n",
    "\n",
    "Input: strs = [\"eat\",\"tea\",\"tan\",\"ate\",\"nat\",\"bat\"]\n",
    "Output: [[\"bat\"],[\"nat\",\"tan\"],[\"ate\",\"eat\",\"tea\"]]"
   ]
  },
  {
   "cell_type": "markdown",
   "metadata": {},
   "source": [
    "# Problem:https://leetcode.com/problems/group-anagrams/"
   ]
  },
  {
   "cell_type": "code",
   "execution_count": 3,
   "metadata": {},
   "outputs": [
    {
     "name": "stdout",
     "output_type": "stream",
     "text": [
      "{'aet': ['eat', 'tea', 'ate'], 'ant': ['tan', 'nat'], 'abt': ['bat']}\n"
     ]
    },
    {
     "data": {
      "text/plain": [
       "[['eat', 'tea', 'ate'], ['tan', 'nat'], ['bat']]"
      ]
     },
     "execution_count": 3,
     "metadata": {},
     "output_type": "execute_result"
    }
   ],
   "source": [
    "class solution:\n",
    "    def groupAnagrams(strs):\n",
    "        d = {}\n",
    "        for i in strs:\n",
    "            ss = ''.join(sorted(i))\n",
    "            if ss not in d:\n",
    "                d[ss] = [i]\n",
    "            else:\n",
    "                d[ss].append(i)\n",
    "        \n",
    "        print(d)\n",
    "        res = list(d.values())\n",
    "        return res\n",
    "    \n",
    "obj = solution\n",
    "obj.groupAnagrams([\"eat\",\"tea\",\"tan\",\"ate\",\"nat\",\"bat\"])\n",
    "\n",
    "#time complexity: O(nwlogw)-w: average word length / O(n-square)\n",
    "#space complexity: O(n)\n"
   ]
  },
  {
   "cell_type": "code",
   "execution_count": 2,
   "metadata": {},
   "outputs": [
    {
     "name": "stdout",
     "output_type": "stream",
     "text": [
      "act\n"
     ]
    }
   ],
   "source": [
    "a = \"cat\"\n",
    "print(\"\".join(sorted(a)))"
   ]
  },
  {
   "cell_type": "markdown",
   "metadata": {},
   "source": [
    "# Solution with Prime numbers"
   ]
  },
  {
   "cell_type": "code",
   "execution_count": 28,
   "metadata": {},
   "outputs": [
    {
     "name": "stdout",
     "output_type": "stream",
     "text": [
      "[['eat', 'tea', 'ate'], ['tan', 'nat'], ['bat']]\n"
     ]
    }
   ],
   "source": [
    "class Solution:\n",
    "    def groupAnagrams(self, strs):\n",
    "        # Base Case\n",
    "        if strs is None or len(strs) == 0:\n",
    "            return -1\n",
    "\n",
    "        # Define hashmap to map the product of the string with the strings having same product\n",
    "        smap = {}\n",
    "\n",
    "#         finalList = []\n",
    "\n",
    "        # Traverse through each string from given string\n",
    "        for s in strs:\n",
    "            primeProduct = self.calculatePrimeProduct(s)\n",
    "            if primeProduct not in smap.keys():\n",
    "                smap[primeProduct] = []\n",
    "            smap.get(primeProduct).append(s)\n",
    "        finalList = list(smap.values())\n",
    "        return finalList\n",
    "#         # Traverse through the hashmap to put values into list\n",
    "#         for k, v in smap.items():\n",
    "#             finalList.append(v)\n",
    "#         return finalList\n",
    "    \n",
    "    # Helper function to calculate product of a given string\n",
    "    def calculatePrimeProduct(self, s):\n",
    "        primes = [2, 3, 5, 7, 11, 13, 17, 19, 23, 29, 31, 37, 41, 43, 47, 53, 59, 67, 71, 73, 79, 83, 89, 97, 101, 103]\n",
    "        product = 1\n",
    "\n",
    "        for i in range(len(s)):\n",
    "            c = s[i]\n",
    "            product = product * (primes[ord(c) - ord('a')])\n",
    "        return product\n",
    "\n",
    "obj = Solution()\n",
    "print(obj.groupAnagrams([\"eat\", \"tea\", \"tan\", \"ate\", \"nat\", \"bat\"]))"
   ]
  },
  {
   "cell_type": "code",
   "execution_count": null,
   "metadata": {},
   "outputs": [],
   "source": []
  }
 ],
 "metadata": {
  "kernelspec": {
   "display_name": "Python 3",
   "language": "python",
   "name": "python3"
  },
  "language_info": {
   "codemirror_mode": {
    "name": "ipython",
    "version": 3
   },
   "file_extension": ".py",
   "mimetype": "text/x-python",
   "name": "python",
   "nbconvert_exporter": "python",
   "pygments_lexer": "ipython3",
   "version": "3.7.7"
  }
 },
 "nbformat": 4,
 "nbformat_minor": 4
}
