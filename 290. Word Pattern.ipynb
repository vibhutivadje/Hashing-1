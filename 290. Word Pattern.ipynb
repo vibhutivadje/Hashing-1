{
 "cells": [
  {
   "cell_type": "markdown",
   "metadata": {},
   "source": [
    "Given a pattern and a string s, find if s follows the same pattern.\n",
    "\n",
    "Here follow means a full match, such that there is a bijection between a letter in pattern and a non-empty word in s.\n",
    "\n",
    "Input: pattern = \"abba\", s = \"dog cat cat dog\"\n",
    "Output: true\n",
    "    \n",
    "Input: pattern = \"abba\", s = \"dog cat cat fish\"\n",
    "Output: false"
   ]
  },
  {
   "cell_type": "markdown",
   "metadata": {},
   "source": [
    "# Problem: https://leetcode.com/problems/word-pattern/"
   ]
  },
  {
   "cell_type": "code",
   "execution_count": 9,
   "metadata": {},
   "outputs": [
    {
     "name": "stdout",
     "output_type": "stream",
     "text": [
      "True\n",
      "False\n",
      "False\n",
      "False\n"
     ]
    }
   ],
   "source": [
    "class solution:\n",
    "    def wordPattern(pattern,s):\n",
    "        \n",
    "        pmap = {}\n",
    "        smap = {}\n",
    "        \n",
    "        arr = s.split()\n",
    "        if len(pattern)!= len(arr):\n",
    "            return False\n",
    "        \n",
    "        for i in range(len(pattern)):\n",
    "            \n",
    "            char = pattern[i]\n",
    "            string = arr[i]\n",
    "            \n",
    "            if char not in pmap:\n",
    "                pmap[char] = string\n",
    "            else:\n",
    "                if pmap[char] != string:\n",
    "                    return False\n",
    "                \n",
    "            if string not in smap:\n",
    "                smap[string]=char\n",
    "            else:\n",
    "                if smap[string]!=char:\n",
    "                    return False\n",
    "            \n",
    "            \n",
    "        return True\n",
    "        \n",
    "obj = solution\n",
    "print(obj.wordPattern('abba','dog cat cat dog'))\n",
    "print(obj.wordPattern('abba','dog cat cat fish'))\n",
    "print(obj.wordPattern(\"aaaa\", \"dog cat cat dog\"))\n",
    "print(obj.wordPattern(\"abba\", \"dog dog dog dog\"))\n",
    "\n",
    "#time complexity: O(n)\n",
    "#Space complexity: O(n)"
   ]
  },
  {
   "cell_type": "code",
   "execution_count": 5,
   "metadata": {},
   "outputs": [
    {
     "name": "stdout",
     "output_type": "stream",
     "text": [
      "['dog', 'cat', 'cat', 'dog']\n",
      "4\n"
     ]
    }
   ],
   "source": [
    "s= \"dog cat cat dog\"\n",
    "arr = s.split(\" \")\n",
    "print(arr)\n",
    "print(len(arr))"
   ]
  },
  {
   "cell_type": "code",
   "execution_count": null,
   "metadata": {},
   "outputs": [],
   "source": []
  }
 ],
 "metadata": {
  "kernelspec": {
   "display_name": "Python 3",
   "language": "python",
   "name": "python3"
  },
  "language_info": {
   "codemirror_mode": {
    "name": "ipython",
    "version": 3
   },
   "file_extension": ".py",
   "mimetype": "text/x-python",
   "name": "python",
   "nbconvert_exporter": "python",
   "pygments_lexer": "ipython3",
   "version": "3.7.7"
  }
 },
 "nbformat": 4,
 "nbformat_minor": 4
}
